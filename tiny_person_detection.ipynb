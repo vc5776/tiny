{
 "cells": [
  {
   "cell_type": "code",
   "execution_count": 1,
   "id": "70eea1a5-5e2e-4c68-9aa3-92c278853b0b",
   "metadata": {},
   "outputs": [],
   "source": [
    "import tensorflow as tf\n",
    "import numpy as np\n",
    "import matplotlib.pyplot as plt\n",
    "from sklearn.model_selection import train_test_split\n",
    "from tensorflow.keras.models import Sequential\n",
    "from tensorflow.keras.layers import Conv2D, MaxPooling2D, Flatten, Dense, Softmax\n",
    "from tensorflow.keras.callbacks import EarlyStopping\n",
    "from tensorflow.keras.preprocessing.image import ImageDataGenerator\n",
    "import os, cv2"
   ]
  },
  {
   "cell_type": "code",
   "execution_count": 2,
   "id": "4efce490-49bf-4f01-8c9a-2f17045dc09b",
   "metadata": {},
   "outputs": [],
   "source": [
    "# 데이터 로딩 및 전처리\n",
    "def load_data(data_dir, image_size=(96,96)):\n",
    "    images, labels = [], []\n",
    "    for label, category in enumerate([\"no_person\", \"person\"]):\n",
    "        path = os.path.join(data_dir, category)\n",
    "        for img_name in os.listdir(path):\n",
    "            img_path = os.path.join(path, img_name)\n",
    "            img = cv2.imread(img_path, cv2.IMREAD_GRAYSCALE)\n",
    "            img = cv2.resize(img, image_size)\n",
    "            images.append(img)\n",
    "            labels.append(label)\n",
    "    images = np.expand_dims(np.array(images)/255.0, -1)  # shape: (N, 96, 96, 1)\n",
    "    return images, np.array(labels)\n",
    "\n",
    "X, y = load_data(\"dataset\")\n",
    "X_train, X_test, y_train, y_test = train_test_split(X, y, stratify=y, test_size=0.2, random_state=42)"
   ]
  },
  {
   "cell_type": "code",
   "execution_count": 3,
   "id": "a9b62bd2-6a9d-41e8-b3e7-609067ee9b99",
   "metadata": {},
   "outputs": [
    {
     "name": "stdout",
     "output_type": "stream",
     "text": [
      "Model: \"sequential\"\n",
      "_________________________________________________________________\n",
      "Layer (type)                 Output Shape              Param #   \n",
      "=================================================================\n",
      "conv2d (Conv2D)              (None, 94, 94, 8)         80        \n",
      "_________________________________________________________________\n",
      "max_pooling2d (MaxPooling2D) (None, 47, 47, 8)         0         \n",
      "_________________________________________________________________\n",
      "conv2d_1 (Conv2D)            (None, 45, 45, 16)        1168      \n",
      "_________________________________________________________________\n",
      "max_pooling2d_1 (MaxPooling2 (None, 22, 22, 16)        0         \n",
      "_________________________________________________________________\n",
      "flatten (Flatten)            (None, 7744)              0         \n",
      "_________________________________________________________________\n",
      "dense (Dense)                (None, 16)                123920    \n",
      "_________________________________________________________________\n",
      "dense_1 (Dense)              (None, 2)                 34        \n",
      "_________________________________________________________________\n",
      "softmax (Softmax)            (None, 2)                 0         \n",
      "=================================================================\n",
      "Total params: 125,202\n",
      "Trainable params: 125,202\n",
      "Non-trainable params: 0\n",
      "_________________________________________________________________\n"
     ]
    }
   ],
   "source": [
    "# 모델 구성\n",
    "\n",
    "model = Sequential([\n",
    "    Conv2D(8, (3,3), activation='relu', input_shape=(96, 96, 1)),\n",
    "    MaxPooling2D(2,2),\n",
    "    Conv2D(16, (3,3), activation='relu'),\n",
    "    MaxPooling2D(2,2),\n",
    "    Flatten(),\n",
    "    Dense(16, activation='relu'),\n",
    "    Dense(2),  # 두 클래스\n",
    "    Softmax()  # 확률화\n",
    "])\n",
    "\n",
    "# 모델 컴파일\n",
    "model.compile(\n",
    "    optimizer='adam',\n",
    "    loss='sparse_categorical_crossentropy',  # y_train이 0/1이면 OK\n",
    "    metrics=['accuracy']\n",
    ")\n",
    "\n",
    "model.summary()"
   ]
  },
  {
   "cell_type": "code",
   "execution_count": 4,
   "id": "4ddfa808-8b8e-42c3-a07b-27428aae279c",
   "metadata": {},
   "outputs": [
    {
     "name": "stdout",
     "output_type": "stream",
     "text": [
      "Epoch 1/50\n",
      "10/10 [==============================] - 0s 31ms/step - loss: 0.7788 - accuracy: 0.4696 - val_loss: 0.6902 - val_accuracy: 0.5190\n",
      "Epoch 2/50\n",
      "10/10 [==============================] - 0s 23ms/step - loss: 0.6904 - accuracy: 0.5911 - val_loss: 0.6899 - val_accuracy: 0.5063\n",
      "Epoch 3/50\n",
      "10/10 [==============================] - 0s 23ms/step - loss: 0.6866 - accuracy: 0.5431 - val_loss: 0.6767 - val_accuracy: 0.5063\n",
      "Epoch 4/50\n",
      "10/10 [==============================] - 0s 22ms/step - loss: 0.6707 - accuracy: 0.5655 - val_loss: 0.6391 - val_accuracy: 0.7089\n",
      "Epoch 5/50\n",
      "10/10 [==============================] - 0s 24ms/step - loss: 0.6487 - accuracy: 0.6518 - val_loss: 0.6043 - val_accuracy: 0.8101\n",
      "Epoch 6/50\n",
      "10/10 [==============================] - 0s 23ms/step - loss: 0.6246 - accuracy: 0.6709 - val_loss: 0.5703 - val_accuracy: 0.8228\n",
      "Epoch 7/50\n",
      "10/10 [==============================] - 0s 23ms/step - loss: 0.5891 - accuracy: 0.7220 - val_loss: 0.5518 - val_accuracy: 0.7848\n",
      "Epoch 8/50\n",
      "10/10 [==============================] - 0s 23ms/step - loss: 0.5506 - accuracy: 0.7732 - val_loss: 0.5207 - val_accuracy: 0.7848\n",
      "Epoch 9/50\n",
      "10/10 [==============================] - 0s 23ms/step - loss: 0.5388 - accuracy: 0.7508 - val_loss: 0.4798 - val_accuracy: 0.7975\n",
      "Epoch 10/50\n",
      "10/10 [==============================] - 0s 23ms/step - loss: 0.4921 - accuracy: 0.7987 - val_loss: 0.4679 - val_accuracy: 0.8101\n",
      "Epoch 11/50\n",
      "10/10 [==============================] - 0s 23ms/step - loss: 0.5153 - accuracy: 0.7380 - val_loss: 0.4526 - val_accuracy: 0.7975\n",
      "Epoch 12/50\n",
      "10/10 [==============================] - 0s 23ms/step - loss: 0.5040 - accuracy: 0.7604 - val_loss: 0.4596 - val_accuracy: 0.8481\n",
      "Epoch 13/50\n",
      "10/10 [==============================] - 0s 24ms/step - loss: 0.4639 - accuracy: 0.7891 - val_loss: 0.4404 - val_accuracy: 0.8481\n",
      "Epoch 14/50\n",
      "10/10 [==============================] - 0s 23ms/step - loss: 0.4424 - accuracy: 0.7987 - val_loss: 0.4225 - val_accuracy: 0.8228\n",
      "Epoch 15/50\n",
      "10/10 [==============================] - 0s 23ms/step - loss: 0.4171 - accuracy: 0.8179 - val_loss: 0.4195 - val_accuracy: 0.8354\n",
      "Epoch 16/50\n",
      "10/10 [==============================] - 0s 22ms/step - loss: 0.4178 - accuracy: 0.8083 - val_loss: 0.4186 - val_accuracy: 0.8101\n",
      "Epoch 17/50\n",
      "10/10 [==============================] - 0s 23ms/step - loss: 0.3970 - accuracy: 0.8179 - val_loss: 0.4285 - val_accuracy: 0.8228\n",
      "Epoch 18/50\n",
      "10/10 [==============================] - 0s 25ms/step - loss: 0.3858 - accuracy: 0.8083 - val_loss: 0.4528 - val_accuracy: 0.7595\n",
      "Epoch 19/50\n",
      "10/10 [==============================] - 0s 23ms/step - loss: 0.3851 - accuracy: 0.8307 - val_loss: 0.4275 - val_accuracy: 0.8228\n",
      "Epoch 20/50\n",
      "10/10 [==============================] - 0s 23ms/step - loss: 0.4043 - accuracy: 0.8051 - val_loss: 0.4303 - val_accuracy: 0.7975\n",
      "Epoch 21/50\n",
      "10/10 [==============================] - 0s 24ms/step - loss: 0.4108 - accuracy: 0.8115 - val_loss: 0.4142 - val_accuracy: 0.8101\n",
      "Epoch 22/50\n",
      "10/10 [==============================] - 0s 23ms/step - loss: 0.3832 - accuracy: 0.8307 - val_loss: 0.3987 - val_accuracy: 0.8481\n",
      "Epoch 23/50\n",
      "10/10 [==============================] - 0s 23ms/step - loss: 0.3653 - accuracy: 0.8498 - val_loss: 0.3869 - val_accuracy: 0.8481\n",
      "Epoch 24/50\n",
      "10/10 [==============================] - 0s 24ms/step - loss: 0.3342 - accuracy: 0.8498 - val_loss: 0.3952 - val_accuracy: 0.8354\n",
      "Epoch 25/50\n",
      "10/10 [==============================] - 0s 23ms/step - loss: 0.3873 - accuracy: 0.8275 - val_loss: 0.4837 - val_accuracy: 0.7595\n",
      "Epoch 26/50\n",
      "10/10 [==============================] - 0s 22ms/step - loss: 0.3350 - accuracy: 0.8690 - val_loss: 0.3929 - val_accuracy: 0.8608\n",
      "Epoch 27/50\n",
      "10/10 [==============================] - 0s 23ms/step - loss: 0.3507 - accuracy: 0.8243 - val_loss: 0.3899 - val_accuracy: 0.8481\n",
      "Epoch 28/50\n",
      "10/10 [==============================] - 0s 24ms/step - loss: 0.3585 - accuracy: 0.8530 - val_loss: 0.4035 - val_accuracy: 0.8228\n"
     ]
    }
   ],
   "source": [
    "# 학습\n",
    "\n",
    "early_stop = EarlyStopping(\n",
    "    monitor='val_loss',\n",
    "    patience=5,        # 5번 연속 악화되면 멈춤\n",
    "    restore_best_weights=True\n",
    ")\n",
    "\n",
    "# 데이터 증강기 정의\n",
    "datagen = ImageDataGenerator(\n",
    "    rotation_range=10,       # 회전 ±10도\n",
    "    zoom_range=0.1,          # 확대/축소 10%\n",
    "    horizontal_flip=True     # 좌우 반전\n",
    ")\n",
    "\n",
    "history = model.fit(\n",
    "    datagen.flow(X_train, y_train, batch_size=32),  # ← 증강된 이미지 사용\n",
    "    validation_data=(X_test, y_test),\n",
    "    epochs=50,\n",
    "    callbacks=[early_stop]\n",
    ")"
   ]
  },
  {
   "cell_type": "code",
   "execution_count": 5,
   "id": "c3b71187-6475-4e7e-8809-818241e744da",
   "metadata": {},
   "outputs": [
    {
     "data": {
      "image/png": "[encoded data removed]",
      "text/plain": [
       "<Figure size 640x480 with 1 Axes>"
      ]
     },
     "metadata": {},
     "output_type": "display_data"
    }
   ],
   "source": [
    "metrics = history.history\n",
    "plt.plot(history.epoch, metrics['loss'], label='loss')\n",
    "plt.plot(history.epoch, metrics['val_loss'], label='val_loss')\n",
    "plt.xlabel('Epoch')\n",
    "plt.ylabel('Loss')\n",
    "plt.title('Training vs Validation Loss')\n",
    "plt.legend()\n",
    "plt.grid(True)\n",
    "plt.show()\n"
   ]
  },
  {
   "cell_type": "code",
   "execution_count": 6,
   "id": "09fd3a18-c64d-402f-9994-50eb08b99d95",
   "metadata": {},
   "outputs": [
    {
     "name": "stdout",
     "output_type": "stream",
     "text": [
      "Classification Report:\n",
      "              precision    recall  f1-score   support\n",
      "\n",
      "   no_person       0.81      0.90      0.85        39\n",
      "      person       0.89      0.80      0.84        40\n",
      "\n",
      "    accuracy                           0.85        79\n",
      "   macro avg       0.85      0.85      0.85        79\n",
      "weighted avg       0.85      0.85      0.85        79\n",
      "\n",
      "Confusion Matrix:\n",
      "[[35  4]\n",
      " [ 8 32]]\n"
     ]
    }
   ],
   "source": [
    "from sklearn.metrics import classification_report, confusion_matrix\n",
    "\n",
    "y_pred_prob = model.predict(X_test)             # shape: (N, 2)\n",
    "y_pred = np.argmax(y_pred_prob, axis=1)         # 클래스 확률 중 최대값의 index\n",
    "\n",
    "print(\"Classification Report:\")\n",
    "print(classification_report(y_test, y_pred, target_names=[\"no_person\", \"person\"]))\n",
    "\n",
    "print(\"Confusion Matrix:\")\n",
    "print(confusion_matrix(y_test, y_pred))\n"
   ]
  },
  {
   "cell_type": "code",
   "execution_count": 7,
   "id": "3944bc64-f4ba-4ce1-9a1e-1bd42c4f4f6c",
   "metadata": {},
   "outputs": [
    {
     "name": "stdout",
     "output_type": "stream",
     "text": [
      "INFO:tensorflow:Assets written to: C:\\Users\\ADMIN\\AppData\\Local\\Temp\\tmp73r4ck05\\assets\n",
      "정적 양자화 모델 저장 완료: person_detection_quantized_int8.tflite\n"
     ]
    }
   ],
   "source": [
    "# 대표 데이터셋 생성기 (정적 양자화용)\n",
    "def representative_dataset_gen():\n",
    "    for i in range(min(100, len(X_train))):\n",
    "        image = X_train[i]\n",
    "        image = np.expand_dims(image, axis=0).astype(np.float32)  # (1,96,96,1)\n",
    "        yield [image]\n",
    "\n",
    "# 정적 양자화 (완전 int8)\n",
    "converter = tf.lite.TFLiteConverter.from_keras_model(model)\n",
    "converter.optimizations = [tf.lite.Optimize.DEFAULT]\n",
    "converter.representative_dataset = representative_dataset_gen\n",
    "converter.target_spec.supported_ops = [tf.lite.OpsSet.TFLITE_BUILTINS_INT8]\n",
    "converter.inference_input_type = tf.int8\n",
    "converter.inference_output_type = tf.int8\n",
    "\n",
    "try:\n",
    "    tflite_model_int8 = converter.convert()\n",
    "    with open(\"person_detection_quantized_int8.tflite\", \"wb\") as f:\n",
    "        f.write(tflite_model_int8)\n",
    "    print(\"정적 양자화 모델 저장 완료: person_detection_quantized_int8.tflite\")\n",
    "except Exception as e:\n",
    "    print(\"정적 양자화 실패:\", e)"
   ]
  },
  {
   "cell_type": "code",
   "execution_count": 8,
   "id": "fd8cefa7-56e7-4ec1-8ccf-c373ae754a2a",
   "metadata": {},
   "outputs": [],
   "source": [
    "with open(\"mobilenet_person_detection_quant.tflite\", \"wb\") as f:\n",
    "    f.write(tflite_model_int8)\n"
   ]
  },
  {
   "cell_type": "code",
   "execution_count": 9,
   "id": "007277c8-b88c-4313-ad6c-81e8cc578db1",
   "metadata": {},
   "outputs": [],
   "source": [
    "!xxd -i person_detection_quantized_int8.tflite > person_detection_model.cc"
   ]
  },
  {
   "cell_type": "code",
   "execution_count": null,
   "id": "9048f907-81cb-47b5-b545-36e92285d1f1",
   "metadata": {},
   "outputs": [],
   "source": []
  },
  {
   "cell_type": "code",
   "execution_count": null,
   "id": "445b728c-4d5f-44b2-bb3a-11b8916b87db",
   "metadata": {},
   "outputs": [],
   "source": []
  },
  {
   "cell_type": "code",
   "execution_count": null,
   "id": "22c7803f-ca65-44b0-9526-4f4bf701a024",
   "metadata": {},
   "outputs": [],
   "source": []
  }
 ],
 "metadata": {
  "kernelspec": {
   "display_name": "ML",
   "language": "python",
   "name": "ml"
  },
  "language_info": {
   "codemirror_mode": {
    "name": "ipython",
    "version": 3
   },
   "file_extension": ".py",
   "mimetype": "text/x-python",
   "name": "python",
   "nbconvert_exporter": "python",
   "pygments_lexer": "ipython3",
   "version": "3.8.20"
  }
 },
 "nbformat": 4,
 "nbformat_minor": 5
}
